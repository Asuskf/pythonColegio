{
  "nbformat": 4,
  "nbformat_minor": 0,
  "metadata": {
    "colab": {
      "name": "Caxton_String_LvL0.ipynb",
      "provenance": [],
      "authorship_tag": "ABX9TyN4H2d2X3al+ON58bGg2+02",
      "include_colab_link": true
    },
    "kernelspec": {
      "name": "python3",
      "display_name": "Python 3"
    },
    "language_info": {
      "name": "python"
    }
  },
  "cells": [
    {
      "cell_type": "markdown",
      "metadata": {
        "id": "view-in-github",
        "colab_type": "text"
      },
      "source": [
        "<a href=\"https://colab.research.google.com/github/Asuskf/pythonColegio/blob/main/2.Strings/Caxton_String_LvL0.ipynb\" target=\"_parent\"><img src=\"https://colab.research.google.com/assets/colab-badge.svg\" alt=\"Open In Colab\"/></a>"
      ]
    },
    {
      "cell_type": "markdown",
      "metadata": {
        "id": "CKA4716FToVT"
      },
      "source": [
        "\n",
        "1.   Cuenta cuantos saltos de línea existen dentro del párrafo"
      ]
    },
    {
      "cell_type": "code",
      "metadata": {
        "id": "HMfsONBuLxqV",
        "colab": {
          "base_uri": "https://localhost:8080/",
          "height": 109
        },
        "outputId": "c7c70307-9e9d-4d60-bc06-61c0d4e4b059"
      },
      "source": [
        "\"\"\"\n",
        "Sopa de Verduras, Quinua y arroz\n",
        "\n",
        "La sopa es uno de esos platos que nos transportan al calor de hogar. Esta preparación combina una variedad de vegetales que le dan ese sabor y la nutrición que toda nuestra familia necesita. Los vegetales verdes como la acelga y el brócoli, contienen hierro que contribuye a un sistema inmune adecuado. Puedes acompañar esta sopa con cubitos de pollo asado al sartén y pan árabe.\n",
        "Sobrescribir enlaces de ayuda a la navegación\n",
        "\n",
        "    2 personas ya cocinaron este platillo\n",
        "    Total: 28min\n",
        "    Preparación: 3min\n",
        "    Cocción: 25min\n",
        "    Porciones: 5\n",
        "    Dificultad: Fácil\n",
        "\n",
        "Se han guardado los ingredientes de la receta.\n",
        "Ir a mi lista del súper Permanecer en la receta\n",
        "Ingredientes\n",
        "\n",
        "    1 1/2 Litros de Agua\n",
        "    2 Dientes de Ajo picados finamente\n",
        "    2 Cucharaditas Aceite Vegetal\n",
        "    1/2 Taza Brócoli sin tallos grandes y picado en porciones pequeñas\n",
        "    1/2 Taza Quinoa bien lavada\n",
        "    1 Taza Espinaca picada en tiras\n",
        "    3 Cucharadas Cilantro picado finamente\n",
        "    2 Cucharadas Perejil Fresco picado finamente\n",
        "    2 Cucharadas Cebollín picado finamente\n",
        "    1 Sobre Sopa De Pollo Con Arroz MAGGI®\n",
        "\n",
        "Instrucciones\n",
        "\n",
        "    Cocina\n",
        "\n",
        "    Coloca el aceite en una olla amplia, una vez caliente sofríe el ajo durante unos momentos. Inmediatamente incorpora 1 litro y ½ de agua. Y agrega la quinua. Deja hervir a fuego medio durante 15 minutos.\n",
        "    Añade\n",
        "\n",
        "    Una vez suave la quinua, incorpora la sopa de pollo con arroz Maggi®, deja hervir semitapado durante otros 10 minutos a fuego medio bajo.\n",
        "    Hierve\n",
        "\n",
        "    Una vez listo el arroz de la sopa incorporamos todos los vegetales y dejamos que hierva 3 minutos. Sirve inmediatamente\n",
        "\n",
        "Información nutricional: 86kcal = 359kj /por porción \"\"\""
      ],
      "execution_count": null,
      "outputs": [
        {
          "output_type": "execute_result",
          "data": {
            "application/vnd.google.colaboratory.intrinsic+json": {
              "type": "string"
            },
            "text/plain": [
              "'\\nSopa de Verduras, Quinua y arroz\\n\\nLa sopa es uno de esos platos que nos transportan al calor de hogar. Esta preparación combina una variedad de vegetales que le dan ese sabor y la nutrición que toda nuestra familia necesita. Los vegetales verdes como la acelga y el brócoli, contienen hierro que contribuye a un sistema inmune adecuado. Puedes acompañar esta sopa con cubitos de pollo asado al sartén y pan árabe.\\nSobrescribir enlaces de ayuda a la navegación\\n\\n    2 personas ya cocinaron este platillo\\n    Total: 28min\\n    Preparación: 3min\\n    Cocción: 25min\\n    Porciones: 5\\n    Dificultad: Fácil\\n\\nSe han guardado los ingredientes de la receta.\\nIr a mi lista del súper Permanecer en la receta\\nIngredientes\\n\\n    1 1/2 Litros de Agua\\n    2 Dientes de Ajo picados finamente\\n    2 Cucharaditas Aceite Vegetal\\n    1/2 Taza Brócoli sin tallos grandes y picado en porciones pequeñas\\n    1/2 Taza Quinoa bien lavada\\n    1 Taza Espinaca picada en tiras\\n    3 Cucharadas Cilantro picado finamente\\n    2 Cucharadas Perejil Fresco picado finamente\\n    2 Cucharadas Cebollín picado finamente\\n    1 Sobre Sopa De Pollo Con Arroz MAGGI®\\n\\nInstrucciones\\n\\n    Cocina\\n\\n    Coloca el aceite en una olla amplia, una vez caliente sofríe el ajo durante unos momentos. Inmediatamente incorpora 1 litro y ½ de agua. Y agrega la quinua. Deja hervir a fuego medio durante 15 minutos.\\n    Añade\\n\\n    Una vez suave la quinua, incorpora la sopa de pollo con arroz Maggi®, deja hervir semitapado durante otros 10 minutos a fuego medio bajo.\\n    Hierve\\n\\n    Una vez listo el arroz de la sopa incorporamos todos los vegetales y dejamos que hierva 3 minutos. Sirve inmediatamente\\n\\nInformación nutricional: 86kcal = 359kj /por porción '"
            ]
          },
          "metadata": {},
          "execution_count": 1
        }
      ]
    },
    {
      "cell_type": "code",
      "metadata": {
        "id": "b5Nt3lSWMuP0"
      },
      "source": [
        ""
      ],
      "execution_count": null,
      "outputs": []
    }
  ]
}