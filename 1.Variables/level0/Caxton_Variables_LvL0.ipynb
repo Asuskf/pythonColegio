{
  "nbformat": 4,
  "nbformat_minor": 0,
  "metadata": {
    "colab": {
      "name": "Caxton_Variables_LvL0.ipynb",
      "provenance": [],
      "authorship_tag": "ABX9TyNJG83AP1F6nMvokx0X5Bmw",
      "include_colab_link": true
    },
    "kernelspec": {
      "name": "python3",
      "display_name": "Python 3"
    },
    "language_info": {
      "name": "python"
    }
  },
  "cells": [
    {
      "cell_type": "markdown",
      "metadata": {
        "id": "view-in-github",
        "colab_type": "text"
      },
      "source": [
        "<a href=\"https://colab.research.google.com/github/Asuskf/pythonColegio/blob/main/1.Variables/level0/Caxton_Variables_LvL0.ipynb\" target=\"_parent\"><img src=\"https://colab.research.google.com/assets/colab-badge.svg\" alt=\"Open In Colab\"/></a>"
      ]
    },
    {
      "cell_type": "markdown",
      "metadata": {
        "id": "-ZURKquE3GhV"
      },
      "source": [
        "# Aprendiendo python\n",
        "\n",
        "## Que es una variable \n",
        "\n",
        "Variable es algo que puede cambiar, que no es constante y su almacenaje se encuentra en la memoria principal del computador (CPU) y esta tiene que ser asociada a un nombre.\n",
        "\n",
        "**Ejemplo**"
      ]
    },
    {
      "cell_type": "code",
      "metadata": {
        "id": "DLFeIynT2rnt"
      },
      "source": [
        "# Declaración de una variable y la asociación  a un nombre\n",
        "nombre = 'David'"
      ],
      "execution_count": null,
      "outputs": []
    },
    {
      "cell_type": "markdown",
      "metadata": {
        "id": "WmsT0hGD3RvV"
      },
      "source": [
        "Restricciones sobre los nombres de las variables\n",
        "\n",
        "\n",
        "*   No debe empezar ni contener carácteres especiales \n",
        "*   No puede empezar por números \n",
        "*   **No pueden ser llamadas igual que las palabras claves reservadas en python**\n",
        "*   No puede contener espacios\n"
      ]
    },
    {
      "cell_type": "code",
      "metadata": {
        "id": "XCVlrW-L3OIA"
      },
      "source": [
        "#óla = 1\n",
        "#1ola = 1\n",
        "#def = 1\n",
        "#var 1 = 1 "
      ],
      "execution_count": null,
      "outputs": []
    },
    {
      "cell_type": "markdown",
      "metadata": {
        "id": "xsRHe3lO3btN"
      },
      "source": [
        "## Recomendaciones antes de empezar\n",
        "\n",
        "Existe una norma para la escritura de código python se llama PEP 8 en donde te señalan algunas buenas practicas a seguir. Las más importantes son:\n",
        "\n",
        "1.   Las variables de una sola palabra se escriben en minúscula\n",
        "2.   Si la variables se comporta de 2 o más palabras se debe escribir en camel case: **nombreVariable** o pascal case: **NombreVariable**\n",
        "\n",
        "**Es preferible escribir todo el código y comentarios en ingles**"
      ]
    },
    {
      "cell_type": "code",
      "metadata": {
        "id": "hupfuflF3SZO"
      },
      "source": [
        "name = 'Kevin David Farinango'"
      ],
      "execution_count": null,
      "outputs": []
    },
    {
      "cell_type": "markdown",
      "metadata": {
        "id": "8F8tlodO3qdC"
      },
      "source": [
        "# Operaciones artiméticas"
      ]
    },
    {
      "cell_type": "code",
      "metadata": {
        "colab": {
          "base_uri": "https://localhost:8080/"
        },
        "id": "fFPDtU6v3l1e",
        "outputId": "07c32e13-3fc8-4f70-b4f8-50fd442b9739"
      },
      "source": [
        "# Suma\n",
        "1 + 2 "
      ],
      "execution_count": null,
      "outputs": [
        {
          "output_type": "execute_result",
          "data": {
            "text/plain": [
              "3"
            ]
          },
          "metadata": {
            "tags": []
          },
          "execution_count": 5
        }
      ]
    },
    {
      "cell_type": "code",
      "metadata": {
        "colab": {
          "base_uri": "https://localhost:8080/"
        },
        "id": "SVhYck3l3zAv",
        "outputId": "3b6be296-7348-4175-a7b4-361a98f92eee"
      },
      "source": [
        "# Resta\n",
        "8 - 1 "
      ],
      "execution_count": null,
      "outputs": [
        {
          "output_type": "execute_result",
          "data": {
            "text/plain": [
              "7"
            ]
          },
          "metadata": {
            "tags": []
          },
          "execution_count": 6
        }
      ]
    },
    {
      "cell_type": "code",
      "metadata": {
        "colab": {
          "base_uri": "https://localhost:8080/"
        },
        "id": "JofO4J2R3rF-",
        "outputId": "24ba1750-8641-44c5-ca43-9a7d4407aff3"
      },
      "source": [
        "# Multiplicación\n",
        "8 * 6 "
      ],
      "execution_count": null,
      "outputs": [
        {
          "output_type": "execute_result",
          "data": {
            "text/plain": [
              "48"
            ]
          },
          "metadata": {
            "tags": []
          },
          "execution_count": 7
        }
      ]
    },
    {
      "cell_type": "code",
      "metadata": {
        "colab": {
          "base_uri": "https://localhost:8080/"
        },
        "id": "Q4-7hA7a3yKf",
        "outputId": "e7343cca-21ef-4db2-cb9f-b536c2302238"
      },
      "source": [
        "# División\n",
        "6 / 6"
      ],
      "execution_count": null,
      "outputs": [
        {
          "output_type": "execute_result",
          "data": {
            "text/plain": [
              "1.0"
            ]
          },
          "metadata": {
            "tags": []
          },
          "execution_count": 8
        }
      ]
    },
    {
      "cell_type": "code",
      "metadata": {
        "id": "r6_o5izR35M2"
      },
      "source": [
        ""
      ],
      "execution_count": null,
      "outputs": []
    }
  ]
}